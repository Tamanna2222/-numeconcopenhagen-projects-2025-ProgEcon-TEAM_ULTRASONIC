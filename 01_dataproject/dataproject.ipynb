{
 "cells": [
  {
   "cell_type": "markdown",
   "metadata": {},
   "source": [
    "# Data Project"
   ]
  },
  {
   "attachments": {},
   "cell_type": "markdown",
   "metadata": {},
   "source": [
    "> **Note:** \n",
    "> 1. This is a starting point for how to structure your data project \n",
    "> 1. The `dataproject.py` file includes functions which can be in this notebook"
   ]
  },
  {
   "cell_type": "markdown",
   "metadata": {},
   "source": [
    "Import and set magics:"
   ]
  },
  {
   "cell_type": "code",
   "execution_count": 1,
   "metadata": {},
   "outputs": [
    {
     "name": "stdout",
     "output_type": "stream",
     "text": [
      "Requirement already satisfied: pandas in c:\\users\\asus\\anaconda3\\lib\\site-packages (2.2.3)\n",
      "Requirement already satisfied: numpy>=1.26.0 in c:\\users\\asus\\anaconda3\\lib\\site-packages (from pandas) (2.1.3)\n",
      "Requirement already satisfied: python-dateutil>=2.8.2 in c:\\users\\asus\\anaconda3\\lib\\site-packages (from pandas) (2.9.0.post0)\n",
      "Requirement already satisfied: pytz>=2020.1 in c:\\users\\asus\\anaconda3\\lib\\site-packages (from pandas) (2024.1)\n",
      "Requirement already satisfied: tzdata>=2022.7 in c:\\users\\asus\\anaconda3\\lib\\site-packages (from pandas) (2025.2)\n",
      "Requirement already satisfied: six>=1.5 in c:\\users\\asus\\anaconda3\\lib\\site-packages (from python-dateutil>=2.8.2->pandas) (1.17.0)\n",
      "Note: you may need to restart the kernel to use updated packages.\n",
      "                   TYPE      TID INDHOLD\n",
      "0  Consumer price index  1980M02    33.3\n",
      "1  Consumer price index  1980M06    34.6\n",
      "2  Consumer price index  1980M10    35.8\n",
      "3  Consumer price index  1981M02    36.8\n",
      "4  Consumer price index  1981M06    39.0\n"
     ]
    }
   ],
   "source": [
    "\n",
    "#  importing necessary packages\n",
    "%pip install pandas\n",
    "\n",
    "import pandas as pd\n",
    "import requests\n",
    "import numpy as np\n",
    "from IPython.display import display\n",
    "from io import StringIO\n",
    "\n",
    "from dstapi import DstApi # The helper class\n",
    "# Define the query parameters \n",
    "query = {\n",
    "    \"table\": \"PRIS113\",\n",
    "    \"format\": \"JSON\"\n",
    "}\n",
    "\n",
    "url = \"https://api.statbank.dk/v1/data\"\n",
    "\n",
    "response = requests.post(url, json=query)\n",
    "data = response.json()\n",
    "pris113_api=DstApi('PRIS113')\n",
    "params=pris113_api._define_base_params(language='en')\n",
    "pris113_dat=pris113_api.get_data(params=params)\n",
    "print(pris113_dat.head())\n",
    "metadata = pris113_dat.rename(columns={\"TID\": \"date\", \"INDHOLD\": \"CPI\", \"TYPE\": \"type\"})\n"
   ]
  },
  {
   "cell_type": "markdown",
   "metadata": {},
   "source": [
    "## Question 1.1"
   ]
  },
  {
   "cell_type": "markdown",
   "metadata": {},
   "source": [
    "#### In question 1.1 we show the below:\n",
    "#### Month-to-month inflation (how much prices changed compared to the previous month).\n",
    "$$\n",
    "π_t = P_t/P_t−1 − 1\n",
    "$$\n",
    "#### 12-month inflation (how much prices changed compared to the same month a year earlier)\n",
    "$$\n",
    "π_t^{12}=P_t/P_{t-12}-1\n",
    "$$\n",
    "#### When did the post-pandemic inflation surge end in Denmark?"
   ]
  },
 
